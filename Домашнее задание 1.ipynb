{
 "cells": [
  {
   "cell_type": "markdown",
   "metadata": {},
   "source": [
    "## Задание 1"
   ]
  },
  {
   "cell_type": "code",
   "execution_count": 6,
   "metadata": {},
   "outputs": [
    {
     "name": "stdout",
     "output_type": "stream",
     "text": [
      "Введите число: 3\n",
      "15\n",
      "67\n",
      "3\n",
      "300778\n"
     ]
    }
   ],
   "source": [
    "a = 15\n",
    "b = 67\n",
    "c = int(input('Введите число: '))\n",
    "result = a+b**c\n",
    "print(a)\n",
    "print(b)\n",
    "print(c)\n",
    "print(result)"
   ]
  },
  {
   "cell_type": "markdown",
   "metadata": {},
   "source": [
    "## Задание 2"
   ]
  },
  {
   "cell_type": "code",
   "execution_count": 33,
   "metadata": {},
   "outputs": [
    {
     "name": "stdout",
     "output_type": "stream",
     "text": [
      "Введите время в секундах :3600\n",
      "1:60:0\n"
     ]
    }
   ],
   "source": [
    "num = int(input('Введите время в секундах :'))\n",
    "minutes = int(num/60)\n",
    "hours = int(minutes/60)\n",
    "sec = int(num%60)\n",
    "form = '{hours}:{minutes}:{sec}'\n",
    "print(form.format(hours=hours, minutes=minutes, sec=sec))\n",
    "\n"
   ]
  },
  {
   "cell_type": "code",
   "execution_count": 9,
   "metadata": {},
   "outputs": [
    {
     "name": "stdout",
     "output_type": "stream",
     "text": [
      "Введите число: 3\n",
      "3 + 33 + 333 = 369\n"
     ]
    }
   ],
   "source": [
    "# Задание 3\n",
    "# Узнайте у пользователя число n. \n",
    "# Найдите сумму чисел n + nn + nnn. Например, пользователь ввёл число 3. Считаем 3 + 33 + 333 = 369.\n",
    "\n",
    "n = input('Введите число: ')\n",
    "result =  f\"{n} + {n + n} + {n + n + n} = {int(n) + int(n +n) + int(n + n + n)}\"\n",
    "print(result)"
   ]
  },
  {
   "cell_type": "code",
   "execution_count": 21,
   "metadata": {},
   "outputs": [
    {
     "name": "stdout",
     "output_type": "stream",
     "text": [
      "Введите целое положительное число: 6546895\n",
      "9\n"
     ]
    }
   ],
   "source": [
    "# Задание 4 \n",
    "# Пользователь вводит целое положительное число. \n",
    "# Найдите самую большую цифру в числе. \n",
    "# Для решения используйте цикл while и арифметические операции.\n",
    "i = int(input('Введите целое положительное число: '))\n",
    "n = -1\n",
    "while i > 10:\n",
    "    maximum = i % 10\n",
    "    i //= 10\n",
    "    if maximum > n:\n",
    "        n = maximum\n",
    "print(n)\n"
   ]
  },
  {
   "cell_type": "code",
   "execution_count": 5,
   "metadata": {},
   "outputs": [
    {
     "name": "stdout",
     "output_type": "stream",
     "text": [
      "Введите выручку за месяц $: 10000\n",
      "Введите издержки за месяц $: 8000\n",
      "Profit\n",
      "Рентабельность 1.25\n",
      "Введите численность сотрудников фирмы: 100\n",
      "Прибыль за одного сотрудника $ 100.0\n"
     ]
    }
   ],
   "source": [
    "# Запросите у пользователя значения выручки и издержек фирмы.\n",
    "income = int(input('Введите выручку за месяц $: '))\n",
    "cost = int(input('Введите издержки за месяц $: '))\n",
    "# Определите, с каким финансовым результатом работает фирма (прибыль — выручка больше издержек, или убыток — издержки больше выручки). \n",
    "# Выведите соответствующее сообщение. \n",
    "vit = income/cost\n",
    "if income > cost or vit>=1:\n",
    "    print('Profit')\n",
    "    \n",
    "else:\n",
    "    print('Loss')\n",
    "\n",
    "# Если фирма отработала с прибылью, вычислите рентабельность выручки (соотношение прибыли к выручке). \n",
    "print('Рентабельность', vit)\n",
    "# Далее запросите численность сотрудников фирмы и определите прибыль фирмы в расчете на одного сотрудника.\n",
    "staff = int(input('Введите численность сотрудников фирмы: '))\n",
    "profit_per_employee = income/staff\n",
    "print('Прибыль за одного сотрудника $', profit_per_employee)\n"
   ]
  },
  {
   "cell_type": "code",
   "execution_count": 18,
   "metadata": {},
   "outputs": [
    {
     "name": "stdout",
     "output_type": "stream",
     "text": [
      "Пробежка за первый день в км: 10\n",
      "Пробежка за n-ый день в км: 30\n",
      "11.0\n",
      "2\n",
      "12.1\n",
      "3\n",
      "13.309999999999999\n",
      "4\n",
      "14.640999999999998\n",
      "5\n",
      "16.105099999999997\n",
      "6\n",
      "17.715609999999998\n",
      "7\n",
      "19.487170999999996\n",
      "8\n",
      "21.435888099999996\n",
      "9\n",
      "23.579476909999997\n",
      "10\n",
      "25.937424600999996\n",
      "11\n",
      "28.531167061099996\n",
      "12\n"
     ]
    }
   ],
   "source": [
    "# Задание 6\n",
    "# Спортсмен занимается ежедневными пробежками. \n",
    "# В первый день его результат составил a километров. \n",
    "# Каждый день спортсмен увеличивал результат на 10 % относительно предыдущего. \n",
    "# Требуется определить номер дня, на который общий результат спортсмена составить не менее b километров. \n",
    "# Программа должна принимать значения параметров a и b и выводить одно натуральное число — номер дня.\n",
    "a = int(input('Пробежка за первый день в км: '))\n",
    "b = int(input('Пробежка за n-ый день в км: '))\n",
    "days = 1\n",
    "while True:  \n",
    "    a  = a + a*0.1\n",
    "    days+=1\n",
    "    if a - b >=0.25:\n",
    "        break\n",
    "    print(a)\n",
    "    print(days)"
   ]
  },
  {
   "cell_type": "code",
   "execution_count": null,
   "metadata": {},
   "outputs": [],
   "source": []
  },
  {
   "cell_type": "code",
   "execution_count": null,
   "metadata": {},
   "outputs": [],
   "source": []
  }
 ],
 "metadata": {
  "kernelspec": {
   "display_name": "Python 3",
   "language": "python",
   "name": "python3"
  },
  "language_info": {
   "codemirror_mode": {
    "name": "ipython",
    "version": 3
   },
   "file_extension": ".py",
   "mimetype": "text/x-python",
   "name": "python",
   "nbconvert_exporter": "python",
   "pygments_lexer": "ipython3",
   "version": "3.8.3"
  }
 },
 "nbformat": 4,
 "nbformat_minor": 4
}
